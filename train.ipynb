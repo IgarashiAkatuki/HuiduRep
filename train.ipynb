{
 "cells": [
  {
   "metadata": {},
   "cell_type": "code",
   "outputs": [],
   "source": "# HuiduRep Trainer",
   "id": "f1f3591c5f894fa",
   "execution_count": null
  },
  {
   "metadata": {},
   "cell_type": "code",
   "outputs": [],
   "execution_count": null,
   "source": [
    "%load_ext autoreload\n",
    "%autoreload 2"
   ],
   "id": "c421f4d7af2fcaf1"
  },
  {
   "metadata": {},
   "cell_type": "code",
   "source": [
    "import random\n",
    "import torch\n",
    "import torch.optim as optim\n",
    "import numpy as np\n",
    "import os\n",
    "\n",
    "from model.CMAES import CMAES\n",
    "from train.CMAES_trainer import CMAESTrainer\n",
    "from utils.CMAES_utils import initialize_weights, load_model\n",
    "from utils.scheduler_utils import get_param_groups, WarmupCosineLR, LARS\n",
    "\n",
    "device = torch.device(\"cuda:0\" if torch.cuda.is_available() else \"cpu\")\n",
    "random.seed(42)\n",
    "torch.manual_seed(42)\n",
    "np.random.seed(42)\n",
    "print(device)"
   ],
   "id": "initial_id",
   "outputs": [],
   "execution_count": null
  },
  {
   "metadata": {},
   "cell_type": "code",
   "source": [
    "huidu = CMAES(T=0.2,\n",
    "              mask_ratio=0.0,\n",
    "              use_embedding=True,\n",
    "              n_heads=4,\n",
    "              m=0.99,\n",
    "              use_avg_pool=True,\n",
    "              K=4096,\n",
    "              embedding_dim=64,\n",
    "              ff_dim=128,\n",
    "              num_layers=3,\n",
    "              dropout=0.1,\n",
    "              moco_v3=True)\n",
    "huidu = load_model(huidu, './resources/checkpoint/HuiduRep.pt')\n",
    "for param, name in huidu.named_parameters():\n",
    "    print(param)"
   ],
   "id": "ca9f23f2b9d043b4",
   "outputs": [],
   "execution_count": null
  },
  {
   "metadata": {},
   "cell_type": "code",
   "source": [
    "# dataset is about 5GB\n",
    "train_labels = None\n",
    "test_labels = None\n",
    "train_dataset = None\n",
    "test_dataset = None\n",
    "target = [11, 13, 16, 69, 84, 89, 277, 267, 332, 343]\n",
    "\n",
    "train_units = np.unique(train_labels)\n",
    "samples = [i for i in range(len(train_units))]\n",
    "samples = random.sample(samples, len(train_units) // 4)\n",
    "train_units = train_units[samples]\n",
    "mask = torch.isin(torch.tensor(test_labels), torch.tensor(train_units))\n",
    "indices = torch.nonzero(mask, as_tuple=False).squeeze(dim=1)\n",
    "train_dataset = train_dataset[indices]\n",
    "train_labels = train_labels[indices]\n",
    "print(train_dataset.shape)"
   ],
   "id": "36934933503995ad",
   "outputs": [],
   "execution_count": null
  },
  {
   "metadata": {},
   "cell_type": "code",
   "source": [
    "ita = 4e-4\n",
    "weight_decay = 1e-4 #0.05\n",
    "optimizer = optim.AdamW(huidu.parameters(), weight_decay=weight_decay, lr=ita)\n",
    "epochs = 32\n",
    "\n",
    "batch_size = int(1024 * 1)\n",
    "\n",
    "# train_steps = epochs * (len(train_dataset) // batch_size)\n",
    "# warmup_steps = int(0.1 * train_steps)\n",
    "\n",
    "# scheduler = torch.optim.lr_scheduler.CosineAnnealingLR(optimizer, T_max=epochs * 65, eta_min=1e-5)\n",
    "scheduler = WarmupCosineLR(optimizer, warmup_epochs=4 * 16 // 1, max_epochs=epochs * 16 // 1, warmup_start_lr=1e-5, eta_min=5e-6)\n",
    "trainer = CMAESTrainer(huidu,\n",
    "                       optimizer=optimizer,\n",
    "                       train_dataset=train_dataset,\n",
    "                       val_dataset=test_dataset,\n",
    "                       train_labels=train_labels,\n",
    "                       val_labels=test_labels,\n",
    "                       test_labels=target,\n",
    "                       eval_epochs=1,\n",
    "                       batch_size=batch_size,\n",
    "                       epochs=epochs,\n",
    "                       tensorboard=True,\n",
    "                       tensorboard_steps=10,\n",
    "                       save_path='./resources/chec',\n",
    "                       scheduler=scheduler,\n",
    "                       total_steps=epochs * 16,\n",
    "                       valid=False)"
   ],
   "id": "ddbb2d5e3fad6fc0",
   "outputs": [],
   "execution_count": null
  },
  {
   "metadata": {},
   "cell_type": "code",
   "source": "trainer.train()",
   "id": "7e82b660a5197a54",
   "outputs": [],
   "execution_count": null
  }
 ],
 "metadata": {
  "kernelspec": {
   "display_name": "Python 3",
   "language": "python",
   "name": "python3"
  },
  "language_info": {
   "codemirror_mode": {
    "name": "ipython",
    "version": 2
   },
   "file_extension": ".py",
   "mimetype": "text/x-python",
   "name": "python",
   "nbconvert_exporter": "python",
   "pygments_lexer": "ipython2",
   "version": "2.7.6"
  }
 },
 "nbformat": 4,
 "nbformat_minor": 5
}
